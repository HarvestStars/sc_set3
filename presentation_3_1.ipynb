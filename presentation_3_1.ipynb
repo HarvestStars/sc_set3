{
 "cells": [
  {
   "cell_type": "code",
   "execution_count": null,
   "metadata": {},
   "outputs": [],
   "source": [
    "import sys\n",
    "import os\n",
    "\n",
    "# get the current working directory\n",
    "notebook_dir = os.getcwd()\n",
    "\n",
    "# make sure the src directory is in the python path\n",
    "src_path = os.path.join(notebook_dir, \"src\")\n",
    "if src_path not in sys.path:\n",
    "    sys.path.append(src_path)\n",
    "\n",
    "import src.create_grids as cg\n",
    "import src.eigenmode.solve_eigenv as solve_eigenv\n",
    "import src.eigenmode.gen_M as gen_M"
   ]
  },
  {
   "cell_type": "markdown",
   "metadata": {},
   "source": [
    "# Part I: 3.1 eigenmode"
   ]
  },
  {
   "cell_type": "markdown",
   "metadata": {},
   "source": [
    "## A) Formulate a matrix version of the eigenvalue problem\n",
    "\n",
    "Answer and derivation is put on the report \"Method\" Section, while the discretization points and their positions are draw below:"
   ]
  },
  {
   "cell_type": "code",
   "execution_count": null,
   "metadata": {},
   "outputs": [],
   "source": [
    "cg.draw_the_position_and_points(5, \"./fig/grid.png\")"
   ]
  },
  {
   "cell_type": "markdown",
   "metadata": {},
   "source": [
    "## B) Solve the eigenvalue problem of three shapes \n",
    "\n",
    "We solve the eigenvalue problem by eigs(), as the matrix is sparse and we are required only to find the first few smallest eigenvalues"
   ]
  },
  {
   "cell_type": "code",
   "execution_count": null,
   "metadata": {},
   "outputs": [],
   "source": [
    "\n",
    "N = 50  # Grid size for the circle\n",
    "L = 1\n",
    "h = L/N  # Grid spacing\n",
    "\n",
    "# Square domain\n",
    "M_rectangle = gen_M.generate_M_with_square(N, h)  # Generate M matrix\n",
    "solve_eigenv.plot_eigenmodes(M_rectangle, N, N, num_modes=4, path=\"./fig/square.png\")  # Plot the first three eig\n",
    "\n",
    "# Rectangular domain\n",
    "M_rectangle = gen_M.generate_M_with_rectangle(N, h)  # Generate M for the rectangular domain\n",
    "solve_eigenv.plot_eigenmodes(M_rectangle, 2*N, N, num_modes=4, path=\"./fig/rectangular.png\")  # Plot the first three eigenvector heatmaps\n",
    "\n",
    "# Circular domain\n",
    "M_circle_v1, index_map, valid_points = gen_M.generate_M_with_circle_v1(N, h) \n",
    "solve_eigenv.solve_eigenproblem_circle_v1(M_circle_v1, index_map, N, num_modes=4, path=\"./fig/circle_v1.png\")\n",
    "\n",
    "M_circle_v2, mask= gen_M.generate_M_with_circle_v2(N, h)\n",
    "solve_eigenv.solve_eigenproblem_circle_v2(M_circle_v2, mask, N, num_modes=4, path=\"./fig/circle_v2.png\")\n"
   ]
  },
  {
   "cell_type": "markdown",
   "metadata": {},
   "source": [
    "## C) Comparison with different matrices solver"
   ]
  },
  {
   "cell_type": "code",
   "execution_count": null,
   "metadata": {},
   "outputs": [],
   "source": [
    "# generate the M matrix for the square domain\n",
    "N = 50\n",
    "h = 1/N\n",
    "M = gen_M.generate_M_with_square(N, h)\n",
    "#solve_eigenv.solve_eigenproblem(M, method=\"eigs\", num_eigenvalues=6)\n",
    "\n",
    "solve_eigenv.solve_eigenproblem(M, method=\"eig\", num_eigenvalues=6)"
   ]
  },
  {
   "cell_type": "code",
   "execution_count": null,
   "metadata": {},
   "outputs": [],
   "source": []
  }
 ],
 "metadata": {
  "kernelspec": {
   "display_name": "zxx",
   "language": "python",
   "name": "python3"
  },
  "language_info": {
   "codemirror_mode": {
    "name": "ipython",
    "version": 3
   },
   "file_extension": ".py",
   "mimetype": "text/x-python",
   "name": "python",
   "nbconvert_exporter": "python",
   "pygments_lexer": "ipython3",
   "version": "3.13.1"
  }
 },
 "nbformat": 4,
 "nbformat_minor": 2
}
